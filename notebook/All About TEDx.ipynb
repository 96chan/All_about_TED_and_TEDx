{
 "metadata": {
  "name": "All About TEDx"
 },
 "nbformat": 3,
 "nbformat_minor": 0,
 "worksheets": [
  {
   "cells": [
    {
     "cell_type": "markdown",
     "metadata": {},
     "source": [
      "<span id=\"goal\"></span>\n"
     ]
    },
    {
     "cell_type": "heading",
     "level": 1,
     "metadata": {},
     "source": [
      "All About TEDx"
     ]
    },
    {
     "cell_type": "heading",
     "level": 4,
     "metadata": {},
     "source": [
      "TEAM : Chan Kim, JT Huang"
     ]
    },
    {
     "cell_type": "heading",
     "level": 1,
     "metadata": {},
     "source": [
      "Our Goal"
     ]
    },
    {
     "cell_type": "markdown",
     "metadata": {},
     "source": [
      "TED is a nonprofit devoted to Ideas Worth Spreading. It started out (in 1984) as a conference bringing together people from three worlds: Technology, Entertainment, and Design. The TED Open Translation Project brings TED Talks beyond the English-speaking world by offering subtitles, interactive transcripts and the ability for any talk to be translated by volunteers worldwide. The project was launched with 300 translations, 40 languages and 200 volunteer translators; now, there are more than 32,000 completed translations from the thousands-strong community. The TEDx program is designed to give communities the opportunity to stimulate dialogue through TED-like experiences at the local level.\n",
      "\n",
      "Our project wants to encourage people to translate TEDx Talk as well by showing how TEDx Talk videos are translated and spreaded among different languages, places and topics, and comparing the spreading status with TED Talk videos.\n",
      "\n",
      "The questions we are trying to answer:\n",
      "\n",
      "* How are the TEDx videos distributed among different languages and places?\n",
      "* How is the spreading status of TEDx videos comparing to that of TED videos?"
     ]
    },
    {
     "cell_type": "markdown",
     "metadata": {},
     "source": [
      "<span id=\"outline\"></span>"
     ]
    },
    {
     "cell_type": "heading",
     "level": 1,
     "metadata": {},
     "source": [
      "Outline"
     ]
    },
    {
     "cell_type": "markdown",
     "metadata": {},
     "source": [
      "<span id=\"outline\"></span>\n",
      "<a href=\"#goal\">1. Our Goal</a><br>\n",
      "<a href=\"#dataset\">2. Dataset</a><br>\n",
      "<a href=\"#prep\">3. Data collection and cleaning</a><br>\n",
      "<a href=\"#stat\">4. Basic Statistics: by language</a><br>\n",
      "<a href=\"#stat2\">5. Basic Statistics: by country</a><br>\n",
      "<a href=\"#viz1\">6. Trends of TEDx over past 5 years by language</a><br>\n",
      "<a href=\"#viz2\">7. Comparison between TED and TEDx by language</a><br>\n",
      "<a href=\"#next\">8. What's next?</a>\n",
      "\n",
      "\n",
      "\n"
     ]
    },
    {
     "cell_type": "markdown",
     "metadata": {},
     "source": [
      "<span id=\"dataset\"></span>"
     ]
    },
    {
     "cell_type": "heading",
     "level": 1,
     "metadata": {},
     "source": [
      "About Dataset"
     ]
    },
    {
     "cell_type": "markdown",
     "metadata": {},
     "source": [
      "Since TEDx did not provide any API for people to retrieve video data, we write our own scrapper to crawl various attributes of the TEDx videos.\n",
      "And since all TEDx videos are on YouTube, we also use YouTube API to retrieve more interesting information about the videos.\n",
      "\n",
      "* **TEDx Website**\n",
      "    * Language\n",
      "    * Event\n",
      "    * Country\n",
      "    * Topic\n",
      "\n",
      "* **YouTube API**\n",
      "    * Uploaded Timestamp\n",
      "    * Title\n",
      "    * Tags\n",
      "    * Thumbnail\n",
      "    * Duration\n",
      "    * Like Count\n",
      "    * Rating\n",
      "    * Rating Count\n",
      "    * View Count\n",
      "    * Favorite Count\n",
      "    * Comment Count\n"
     ]
    },
    {
     "cell_type": "markdown",
     "metadata": {},
     "source": [
      "<span id=\"prep\"></span>\n",
      "<a href=\"#outline\">Go to Top</a>"
     ]
    },
    {
     "cell_type": "heading",
     "level": 2,
     "metadata": {},
     "source": [
      "TEDx Web Scrapper"
     ]
    },
    {
     "cell_type": "heading",
     "level": 3,
     "metadata": {},
     "source": [
      "Stage 1. Get Type Portal Links from TEDx Home URL"
     ]
    },
    {
     "cell_type": "markdown",
     "metadata": {},
     "source": [
      "First, we try to get all the type portal links from [TEDx home URL](http://tedxtalks.ted.com).\n",
      "\n",
      "We try to find out all the links begin with the following strings in the [TEDx home URL](http://tedxtalks.ted.com) with [Beautiful Soup](http://www.crummy.com/software/BeautifulSoup/).\n",
      "\n",
      "* **Language** Pages: '/browse/talks-by-language/', EX:\n",
      "    * Korean: '/browse/talks-by-language/korean'\n",
      "    * Chinese: '/browse/talks-by-language/chinese'\n",
      "* **Event** Pages: '/browse/talks-by-event/', EX:\n",
      "    * TEDxBerkeley: '/browse/talks-by-event/tedxberkeley'\n",
      "    * TEDxStanford: '/browse/talks-by-event/tedxstanford'\n",
      "* **Country** Pages: '/browse/talks-by-country/'\n",
      "    * South Korea: '/browse/talks-by-country/korea'\n",
      "    * Taiwan: '/browse/talks-by-country/taiwan'\n",
      "* **Topic** Pages: '/browse/talks-by-topic/\n",
      "    * Technology: '/browse/talks-by-topic/technology'\n",
      "    * Design: '/browse/talks-by-topic/design'"
     ]
    },
    {
     "cell_type": "heading",
     "level": 4,
     "metadata": {},
     "source": [
      "Sample Code and Results"
     ]
    },
    {
     "cell_type": "code",
     "collapsed": false,
     "input": [
      "import requests\n",
      "from bs4 import BeautifulSoup\n",
      "\n",
      "TEDX_HOME_URL = \"http://tedxtalks.ted.com\"\n",
      "LANG_URL = \"/browse/talks-by-language/\"\n",
      "\n",
      "s = requests.get(TEDX_HOME_URL)\n",
      "soup = BeautifulSoup(s.content)\n",
      "\n",
      "total = 0\n",
      "link_tags = soup.find_all('a', href=True)\n",
      "for link_tag in link_tags:\n",
      "    link = link_tag['href']\n",
      "    lang = link_tag.next_element.next_element.next_element\n",
      "    if link.startswith(LANG_URL):\n",
      "        print(\"Language %s: %s\" % (lang, link))\n",
      "        total += 1\n",
      "\n",
      "print(\"Total: %d\" % (total))"
     ],
     "language": "python",
     "metadata": {},
     "outputs": [
      {
       "output_type": "stream",
       "stream": "stdout",
       "text": [
        "Language American Sign Language: /browse/talks-by-language/asl\n",
        "Language Azerbaijani: /browse/talks-by-language/azerbaijani\n",
        "Language Galician: /browse/talks-by-language/galician\n",
        "Language Arabic: /browse/talks-by-language/arabic\n",
        "Language Bulgarian: /browse/talks-by-language/bulgarian\n",
        "Language Catalan: /browse/talks-by-language/catalan\n",
        "Language Chinese: /browse/talks-by-language/chinese\n",
        "Language Croatian: /browse/talks-by-language/croatian\n",
        "Language Czech: /browse/talks-by-language/czech\n",
        "Language Dutch: /browse/talks-by-language/dutch\n",
        "Language English: /browse/talks-by-language/english\n",
        "Language Estonian: /browse/talks-by-language/estonian\n",
        "Language Finnish: /browse/talks-by-language/finnish\n",
        "Language French: /browse/talks-by-language/french\n",
        "Language German: /browse/talks-by-language/german\n",
        "Language Greek: /browse/talks-by-language/greek\n",
        "Language Hebrew: /browse/talks-by-language/hebrew\n",
        "Language Hindi: /browse/talks-by-language/hindi\n",
        "Language Hungarian: /browse/talks-by-language/hungarian\n",
        "Language Icelandic: /browse/talks-by-language/icelandic\n",
        "Language Indonesian: /browse/talks-by-language/indonesian\n",
        "Language Italian: /browse/talks-by-language/italian\n",
        "Language Japanese: /browse/talks-by-language/japanese\n",
        "Language Korean: /browse/talks-by-language/korean\n",
        "Language Lithuanian: /browse/talks-by-language/lithuanian\n",
        "Language Malay: /browse/talks-by-language/malay\n",
        "Language Polish: /browse/talks-by-language/polish\n",
        "Language Portuguese: /browse/talks-by-language/portuguese\n",
        "Language Rajasthani: /browse/talks-by-language/rajasthani\n",
        "Language Romanian: /browse/talks-by-language/romanian\n",
        "Language Russian: /browse/talks-by-language/russian\n",
        "Language Slovak: /browse/talks-by-language/slovak\n",
        "Language Slovene: /browse/talks-by-language/slovene\n",
        "Language Spanish: /browse/talks-by-language/spanish\n",
        "Language Swedish: /browse/talks-by-language/swedish\n",
        "Language Tamil: /browse/talks-by-language/tamil\n",
        "Language Thai: /browse/talks-by-language/thai\n",
        "Language Turkish: /browse/talks-by-language/turkish\n",
        "Language Ukrainian: /browse/talks-by-language/ukrainian\n",
        "Language Urdu: /browse/talks-by-language/urdu\n",
        "Total: 40\n"
       ]
      }
     ],
     "prompt_number": 68
    },
    {
     "cell_type": "heading",
     "level": 3,
     "metadata": {},
     "source": [
      "Stage 2: Get Video Links in Type Portal Links"
     ]
    },
    {
     "cell_type": "markdown",
     "metadata": {},
     "source": [
      "Then we go to each type portal link to get video links, and the type will become the attribute of the video.\n",
      "\n",
      "We will go through page 1, page 2, until there is no other pages in that type attribute. \n",
      "For example, we will go to 'http://tedxtalks.ted.com/browse/talks-by-language/icelandic?page=1', then 'http://tedxtalks.ted.com/browse/talks-by-language/icelandic?page=2' and stop at ''http://tedxtalks.ted.com/browse/talks-by-language/icelandic?page=3' to get all the 28 videos in Icelandic.\n",
      "\n",
      "In 'http://tedxtalks.ted.com/browse/talks-by-language/icelandic?page=1' we can find the video link '/list/search%3Atag%3A%22icelandic%22/video/TEDxReykjavik-Eythor-Edvardsson' by using Beautiful Soup and the regular expression. For example, the second video in 'http://tedxtalks.ted.com/browse/talks-by-language/icelandic?page=1'\n",
      "\n",
      "`<a id=\"mvp_grid_panel_img_1\" href=\"/list/search%3Atag%3A%22icelandic%22/video/TEDxReykjavik-Eythor-Edvardsson\" class=\"mvp_thumbnail_magnified\" style=\"position: relative; width: 293px; height: 220px; background-image: url('http://s3.amazonaws.com/magnifythumbs/GZL3TH25NHYK1LB6.jpg'); filter: progid:DXImageTransform.Microsoft.AlphaImageLoader( src='http://s3.amazonaws.com/magnifythumbs/GZL3TH25NHYK1LB6.jpg',  sizingMethod='scale');\" title=\"TEDxReykjavik - Eythor Edvardsson -\"></a>`"
     ]
    },
    {
     "cell_type": "heading",
     "level": 4,
     "metadata": {},
     "source": [
      "Sample Code and Results"
     ]
    },
    {
     "cell_type": "code",
     "collapsed": false,
     "input": [
      "import re\n",
      "\n",
      "VIDEO_LINK_PREFIX = \"mvp_grid_panel_img_\"\n",
      "MSG_CLASS = \"mvp_padded_message\"\n",
      "EMPTY_PAGE_MSG = \"This page is empty.\"\n",
      "\n",
      "portal_url = \"http://tedxtalks.ted.com/browse/talks-by-language/icelandic\"\n",
      "page = 1\n",
      "while(True):\n",
      "    # EX: http://tedxtalks.ted.com/browse/talks-by-language/icelandic?page=1\n",
      "    url = portal_url + \"?page=\" + str(page)\n",
      "    print(\"Reading URL: \" + url)\n",
      "    s = requests.get(url)\n",
      "    soup = BeautifulSoup(s.content)\n",
      "    \n",
      "    # if there is no Next page\n",
      "    # <div class=\"mvp_padded_message\">This page is empty.</div>\n",
      "    msg_tag = soup.find('div', {'class': MSG_CLASS})\n",
      "    if msg_tag and msg_tag.get_text() == EMPTY_PAGE_MSG:\n",
      "        print(\"empty page.\")\n",
      "        break\n",
      "    \n",
      "    link_tags = soup.find_all('a', id=re.compile(VIDEO_LINK_PREFIX), href=True)\n",
      "    for link_tag in link_tags:\n",
      "        link = link_tag['href']\n",
      "        # EX: from /list/search%3Atag%3A%22chinese%22/video/The-tragedy-of-Hong-Kong-Archiv to /video/The-tragedy-of-Hong-Kong-Archiv\n",
      "        pos = link.find(\"/video\")\n",
      "        link = link[pos:]\n",
      "        print(\"video link: %s (attr Language: Icelandic)\" % (link))\n",
      "\n",
      "    page += 1"
     ],
     "language": "python",
     "metadata": {},
     "outputs": [
      {
       "output_type": "stream",
       "stream": "stdout",
       "text": [
        "Reading URL: http://tedxtalks.ted.com/browse/talks-by-language/icelandic?page=1\n",
        "video link: /video/TEDxReykjavik-Berghildur-Bergrs (attr Language: Icelandic)"
       ]
      },
      {
       "output_type": "stream",
       "stream": "stdout",
       "text": [
        "\n",
        "video link: /video/TEDxReykjavik-Eythor-Edvardsson (attr Language: Icelandic)\n",
        "video link: /video/TEDxReykjavik-Ari-Kristinn-Jons (attr Language: Icelandic)\n",
        "video link: /video/TEDxReykjavik-Danielle-Morrill (attr Language: Icelandic)\n",
        "video link: /video/TEDxReykjavik-Deepa-Iyengar-Jed (attr Language: Icelandic)\n",
        "video link: /video/TEDxReykjavik-Rakel-Solvadottir (attr Language: Icelandic)\n",
        "video link: /video/TEDxReykjavik-Alex-MacNeil-Exit (attr Language: Icelandic)\n",
        "video link: /video/TEDxReykjavik-Daddi-Gudbergsson (attr Language: Icelandic)\n",
        "video link: /video/TEDxReykjavik-Peter-Anderson-Mo (attr Language: Icelandic)\n",
        "video link: /video/TEDxReykjavik-Iceland-Dance-Com (attr Language: Icelandic)\n",
        "video link: /video/TEDxReykjavik-Hrund-Gunnsteinsd (attr Language: Icelandic)\n",
        "video link: /video/TEDxReykjavik-Gudrun-Petursdott (attr Language: Icelandic)\n",
        "video link: /video/TEDxReykjavik-Ingibjorg-Greta-G (attr Language: Icelandic)\n",
        "video link: /video/TEDxReykjavik-Ragnheidur-Harald (attr Language: Icelandic)\n",
        "video link: /video/TEDxReykjavik-Smri-McCarthy-960 (attr Language: Icelandic)\n",
        "video link: /video/TEDxReykjavik-Skli-Mogensen-960 (attr Language: Icelandic)\n",
        "video link: /video/TEDxReykjavik-Edda-Bjrgvinsdtti (attr Language: Icelandic)\n",
        "video link: /video/TEDxReykjavik-Margrt-Dra-Ragnar (attr Language: Icelandic)\n",
        "video link: /video/TEDxReykjavik-Jnas-Antonsson-96 (attr Language: Icelandic)\n",
        "video link: /video/TEDxReykjavik-Guni-Gunnarsson-9 (attr Language: Icelandic)\n",
        "Reading URL: http://tedxtalks.ted.com/browse/talks-by-language/icelandic?page=2\n",
        "video link: /video/TEDxReykjavik-Gumundur-Oddur-96 (attr Language: Icelandic)"
       ]
      },
      {
       "output_type": "stream",
       "stream": "stdout",
       "text": [
        "\n",
        "video link: /video/TEDxReykjavik-Andri-Heiar-Krist (attr Language: Icelandic)\n",
        "video link: /video/TEDxReykjavik-Kristin-Drfjr-960 (attr Language: Icelandic)\n",
        "video link: /video/TEDxReykjavik-Gurn-Lilja-Gunnla (attr Language: Icelandic)\n",
        "video link: /video/TEDxReykjavik-Teitur-orkelsson (attr Language: Icelandic)\n",
        "video link: /video/TEDxReykjavik-orvaldur-orsteins (attr Language: Icelandic)\n",
        "video link: /video/TEDxReykjavik-Mary-Frances-Davi (attr Language: Icelandic)\n",
        "video link: /video/TEDxReykjavik-Torfi-G-Yngvason (attr Language: Icelandic)\n",
        "Reading URL: http://tedxtalks.ted.com/browse/talks-by-language/icelandic?page=3\n",
        "empty page."
       ]
      },
      {
       "output_type": "stream",
       "stream": "stdout",
       "text": [
        "\n"
       ]
      }
     ],
     "prompt_number": 13
    },
    {
     "cell_type": "heading",
     "level": 3,
     "metadata": {},
     "source": [
      "Stage 3: Get the YouTube ID of the Video"
     ]
    },
    {
     "cell_type": "markdown",
     "metadata": {},
     "source": [
      "Since all TEDx videos are on YouTube, and we also use YouTube API to get other interesting information of the videos, we use YouTube ID as the key to represent the video.\n",
      "And because Beautiful Soup does not parse through the tag `<embed>` so we just use the regualr expression to get the YouTube ID.\n",
      "\n",
      "For example, in the video 'http://tedxtalks.ted.com/video/TEDxReykjavik-Eythor-Edvardsson' we can find its YouTube ID: 'bzF4GPguPL8'\n",
      "\n",
      "`<embed type=\"application/x-shockwave-flash\" src=\"http://www.youtube.com/v/bzF4GPguPL8&amp;rel=0&amp;fs=1&amp;showsearch=0&amp;enablejsapi=1&amp;modestbranding=1&amp;autoplay=1&amp;playerapiid=mvp_swfo_embed_V8C4K631YLWW0QF3_1299136773\" width=\"634\" height=\"382\" style=\"undefined\" id=\"mvp_swfo_embed_V8C4K631YLWW0QF3_1299136773\" name=\"mvp_swfo_embed_V8C4K631YLWW0QF3_1299136773\" quality=\"high\" allowfullscreen=\"true\" allowscriptaccess=\"always\" wmode=\"opaque\" loop=\"false\">`"
     ]
    },
    {
     "cell_type": "heading",
     "level": 4,
     "metadata": {},
     "source": [
      "Sample Code and Results"
     ]
    },
    {
     "cell_type": "code",
     "collapsed": false,
     "input": [
      "VIDEO_ID_RE = b\"\"\"\n",
      "<embed.*\\ src=\\\\\\\\\\\".*/v/(.*?)\\\\\\\\\\\".*>.*</embed>\n",
      "\"\"\"\n",
      "url = \"http://tedxtalks.ted.com/video/TEDxReykjavik-Eythor-Edvardsson\"\n",
      "s = requests.get(url)\n",
      "html = s.content\n",
      "video_ids = re.findall(VIDEO_ID_RE, html, re.IGNORECASE|re.VERBOSE)\n",
      "for video_id in video_ids:\n",
      "        # NOTE: byte string => need decode\n",
      "        print(\"YouTube ID: %s (%s)\" % (url, video_id.decode('utf-8')))"
     ],
     "language": "python",
     "metadata": {},
     "outputs": [
      {
       "output_type": "stream",
       "stream": "stdout",
       "text": [
        "YouTube ID: http://tedxtalks.ted.com/video/TEDxReykjavik-Eythor-Edvardsson (bzF4GPguPL8)\n"
       ]
      }
     ],
     "prompt_number": 18
    },
    {
     "cell_type": "heading",
     "level": 2,
     "metadata": {},
     "source": [
      "YouTube API"
     ]
    },
    {
     "cell_type": "code",
     "collapsed": false,
     "input": [
      "#https://developers.google.com/youtube/articles/view_youtube_jsonc_responses\n",
      "#https://developers.google.com/youtube/2.0/developers_guide_jsonc\n",
      "\n",
      "import requests\n",
      "import json\n",
      "import time\n",
      "\n",
      "user_id = \"tedxtalks\"\n",
      "page = 1\n",
      "maxcount = 25\n",
      "count = 0\n",
      "start_index = 0\n",
      "\n",
      "# Obtaining Total page number\n",
      "s = requests.get(\"https://gdata.youtube.com/feeds/api/users/\"+user_id+\"/uploads?v=2&alt=jsonc&start-index=1&max-result=1\")\n",
      "data = [json.loads(row) for row in s.content.split(\"\\n\") if row]\n",
      "totalcount = data[0]['data']['totalItems']\n",
      "pagenumber = totalcount/maxcount +1\n",
      "\n",
      "key = ['id', 'uploaded', 'category', 'title', 'tags', 'thumbnail', 'duration', 'likeCount', 'rating', 'ratingCount', 'viewCount', 'favoriteCount', 'commentCount'] \n",
      "tedx ={'id':'',\n",
      "        'data':{   'uploaded':'','title':'','tags':'','thumbnail':'','duration':'','likeCount':'','rating':'','ratingCount':'','viewCount':'','favoriteCount':'','commentCount':''}\n",
      "    }\n",
      "\n",
      "# Obtaining Data from each page (sample)\n",
      "for index in range(1,2): #range(1,pagenumber):\n",
      "    # changing index number \n",
      "    if index == 1:\n",
      "        start_index = 1\n",
      "    else:\n",
      "        start_index = index*maxcount\n",
      "    s = requests.get(\"https://gdata.youtube.com/feeds/api/users/\"+user_id+\"/uploads?v=2&alt=jsonc&start-index=\"+str(start_index)+\"&max-result=\"+str(maxcount))\n",
      "    data = [json.loads(row) for row in s.content.split(\"\\n\") if row]\n",
      "    metadata = data[0]['data']['items']\n",
      "    \n",
      "    # obtaining each data in a page (25 items)\n",
      "    for i in range(5):#len(metadata)):\n",
      "        count +=1\n",
      "        u = metadata[i]\n",
      "\n",
      "        #missing key-value pair\n",
      "        for j in key:\n",
      "            if j=='id':\n",
      "                tedx['id']=u['id']\n",
      "            elif j =='thumbnail':\n",
      "                tedx['data'][j] = u[j][u'hqDefault']\n",
      "            elif j == 'title': \n",
      "                tedx['data'][j] = u[j].encode('utf-8')\n",
      "            else:\n",
      "                tedx['data'][j] = u[j] if not j in list(set(key) -set(u.keys())) else '-'\n",
      "        \n",
      "        the_dump = json.dumps(tedx)\n",
      "        print the_dump\n",
      "    # delay\n",
      "    time.sleep(1)\n",
      "\n",
      "# https://developers.google.com/youtube/2.0/developers_guide_jsonc "
     ],
     "language": "python",
     "metadata": {},
     "outputs": [
      {
       "output_type": "stream",
       "stream": "stdout",
       "text": [
        "{\"data\": {\"uploaded\": \"2013-05-02T08:46:29.000Z\", \"rating\": \"-\", \"tags\": \"-\", \"likeCount\": \"-\", \"commentCount\": 0, \"ratingCount\": \"-\", \"duration\": 960, \"category\": \"People\", \"viewCount\": 2, \"title\": \"Corporate rebels: Peter Vander Auwera at TEDxBrusselsChange\", \"favoriteCount\": 0, \"thumbnail\": \"http://i.ytimg.com/vi/GgdwNiOwajg/hqdefault.jpg\"}, \"id\": \"GgdwNiOwajg\"}\n",
        "{\"data\": {\"uploaded\": \"2013-05-02T06:43:09.000Z\", \"rating\": 5.0, \"tags\": \"-\", \"likeCount\": \"3\", \"commentCount\": 0, \"ratingCount\": 3, \"duration\": 1134, \"category\": \"Tech\", \"viewCount\": 39, \"title\": \"One Chance at Life - What Would You Do: Chuck Berry at TEDxQueenstown\", \"favoriteCount\": 0, \"thumbnail\": \"http://i.ytimg.com/vi/5LMMIu813zQ/hqdefault.jpg\"}, \"id\": \"5LMMIu813zQ\"}\n",
        "{\"data\": {\"uploaded\": \"2013-05-02T05:47:59.000Z\", \"rating\": 4.75, \"tags\": \"-\", \"likeCount\": \"15\", \"commentCount\": 2, \"ratingCount\": 16, \"duration\": 866, \"category\": \"People\", \"viewCount\": 130, \"title\": \"The Habbits of Highly Boring People: Chris Sauve at TEDxCarletonU\", \"favoriteCount\": 0, \"thumbnail\": \"http://i.ytimg.com/vi/3rbVQNTzCh8/hqdefault.jpg\"}, \"id\": \"3rbVQNTzCh8\"}\n",
        "{\"data\": {\"uploaded\": \"2013-05-02T05:05:34.000Z\", \"rating\": 5.0, \"tags\": \"-\", \"likeCount\": \"4\", \"commentCount\": 0, \"ratingCount\": 4, \"duration\": 924, \"category\": \"People\", \"viewCount\": 21, \"title\": \"A Selfless Good Deed: Trevor Deley at TEDxCarletonU\", \"favoriteCount\": 0, \"thumbnail\": \"http://i.ytimg.com/vi/OvZlGIT1tOA/hqdefault.jpg\"}, \"id\": \"OvZlGIT1tOA\"}\n",
        "{\"data\": {\"uploaded\": \"2013-05-02T04:24:49.000Z\", \"rating\": 5.0, \"tags\": \"-\", \"likeCount\": \"2\", \"commentCount\": 0, \"ratingCount\": 2, \"duration\": 858, \"category\": \"Sports\", \"viewCount\": 14, \"title\": \"Fishing for the Future: Dr. Steven Cooke at TEDxCarletonU\", \"favoriteCount\": 0, \"thumbnail\": \"http://i.ytimg.com/vi/Wsz8Wn76h-4/hqdefault.jpg\"}, \"id\": \"Wsz8Wn76h-4\"}\n"
       ]
      }
     ],
     "prompt_number": 2
    },
    {
     "cell_type": "heading",
     "level": 2,
     "metadata": {},
     "source": [
      "Merged Results"
     ]
    },
    {
     "cell_type": "markdown",
     "metadata": {},
     "source": [
      "Now that we've got the video attributes from both TEDx website and YouTube, we can merge these attributes."
     ]
    },
    {
     "cell_type": "heading",
     "level": 4,
     "metadata": {},
     "source": [
      "Sample Code and Results"
     ]
    },
    {
     "cell_type": "code",
     "collapsed": false,
     "input": [
      "import json\n",
      "\n",
      "SITE_JSON = \"tedx_video.json\"\n",
      "YOUTUBE_JSON = \"tedx_v7.txt\"\n",
      "SITE_ATTR_LIST = ['lang', 'event', 'country', 'topic']\n",
      "\n",
      "# import JSON from TEDx website and make video_dict\n",
      "site_json_file = open(SITE_JSON)\n",
      "site_json = json.load(site_json_file)\n",
      "site_json_file.close()\n",
      "video_dict = {}\n",
      "for video in site_json:\n",
      "    vid = site_json[video]['id']\n",
      "    video_dict[vid] = {}\n",
      "    for attr in SITE_ATTR_LIST:\n",
      "        if attr in site_json[video]:\n",
      "            video_dict[vid][attr] = site_json[video][attr]\n",
      "\n",
      "# get JSON from YouTube and print to merged result file\n",
      "merged_cnt = 0\n",
      "with open(YOUTUBE_JSON, \"r\") as youtube_json_file:\n",
      "    for line in youtube_json_file:\n",
      "        if merged_cnt >= 10:\n",
      "            break\n",
      "        youtube_json = json.loads(line)\n",
      "        vid = youtube_json['id']\n",
      "        merged_video = youtube_json['data']\n",
      "        merged_video['id'] = vid\n",
      "        if vid in video_dict:\n",
      "            attr_cnt = 0\n",
      "            for attr in SITE_ATTR_LIST:\n",
      "                if attr in video_dict[vid]:\n",
      "                    merged_video[attr] = video_dict[vid][attr]\n",
      "                    attr_cnt += 1\n",
      "            if attr_cnt == 4:\n",
      "                print(json.dumps(merged_video))\n",
      "                merged_cnt += 1"
     ],
     "language": "python",
     "metadata": {},
     "outputs": [
      {
       "output_type": "stream",
       "stream": "stdout",
       "text": [
        "{\"uploaded\": \"2013-04-24T08:42:45.000Z\", \"rating\": 4.6, \"lang\": \"English\", \"tags\": \"-\", \"country\": \"Spain\", \"id\": \"JcqXD5JgVXw\", \"title\": \"Wonder and beauty in education: Catherine L'Ecuyer at TEDxManresa\", \"event\": \"TEDxManresa\", \"likeCount\": \"9\", \"commentCount\": 0, \"topic\": \"Education\", \"ratingCount\": 10, \"duration\": 1087, \"category\": \"Nonprofit\", \"favoriteCount\": 0, \"thumbnail\": \"http://i.ytimg.com/vi/JcqXD5JgVXw/hqdefault.jpg\", \"viewCount\": 900}\n",
        "{\"uploaded\": \"2013-04-23T10:09:17.000Z\", \"rating\": 4.8974357, \"lang\": \"English\", \"tags\": \"-\", \"country\": \"Greece\", \"id\": \"s6KM9MxY5ZM\", \"title\": \"Learning is a Game: Ed Cooke at TEDxThessaloniki\", \"event\": \"TEDxThessaloniki\", \"likeCount\": \"38\", \"commentCount\": 5, \"topic\": \"Education\", \"ratingCount\": 39, \"duration\": 1187, \"category\": \"Education\", \"favoriteCount\": 0, \"thumbnail\": \"http://i.ytimg.com/vi/s6KM9MxY5ZM/hqdefault.jpg\", \"viewCount\": 2152}\n",
        "{\"uploaded\": \"2013-04-23T07:26:23.000Z\", \"rating\": 5.0, \"lang\": \"Czech\", \"tags\": \"-\", \"country\": \"Czech Republic\", \"id\": \"pZsORC8sgl4\", \"title\": \"Architektura jako starost o m\\u00edsto kde \\u017eijeme: Roman Brychta at TEDxHradecKralove\", \"event\": \"TEDxHradecKralove\", \"likeCount\": \"1\", \"commentCount\": 0, \"topic\": \"Education\", \"ratingCount\": 1, \"duration\": 981, \"category\": \"Education\", \"favoriteCount\": 0, \"thumbnail\": \"http://i.ytimg.com/vi/pZsORC8sgl4/hqdefault.jpg\", \"viewCount\": 89}\n",
        "{\"uploaded\": \"2013-04-23T07:25:08.000Z\", \"rating\": 5.0, \"lang\": \"Czech\", \"tags\": \"-\", \"country\": \"Czech Republic\", \"id\": \"HeSH7cKTs0s\", \"title\": \"Kdy\\u017e se chce, tak to jde... V\\u011b\\u0159te n\\u00e1m, testovali jsme to na lidech: Dan P\\u0159ib\\u00e1\\u0148 at TEDxHradecKralove\", \"event\": \"TEDxHradecKralove\", \"likeCount\": \"82\", \"commentCount\": 6, \"topic\": \"Education\", \"ratingCount\": 82, \"duration\": 1031, \"category\": \"Education\", \"favoriteCount\": 0, \"thumbnail\": \"http://i.ytimg.com/vi/HeSH7cKTs0s/hqdefault.jpg\", \"viewCount\": 2799}\n",
        "{\"uploaded\": \"2013-04-23T07:24:51.000Z\", \"rating\": 5.0, \"lang\": \"Czech\", \"tags\": \"-\", \"country\": \"Czech Republic\", \"id\": \"Bkrku3_sv88\", \"title\": \"Geometrie trojrozm\\u011brn\\u00e9ho \\u017eivota: Jan Han\\u00e1k at TEDxHradecKralove\", \"event\": \"TEDxHradecKralove\", \"likeCount\": \"1\", \"commentCount\": 0, \"topic\": \"Education\", \"ratingCount\": 1, \"duration\": 883, \"category\": \"Education\", \"favoriteCount\": 0, \"thumbnail\": \"http://i.ytimg.com/vi/Bkrku3_sv88/hqdefault.jpg\", \"viewCount\": 92}\n",
        "{\"uploaded\": \"2013-04-23T07:24:17.000Z\", \"rating\": 5.0, \"lang\": \"Czech\", \"tags\": \"-\", \"country\": \"Czech Republic\", \"id\": \"zNS7kdSMVac\", \"title\": \"Psan\\u00edm k sebepozn\\u00e1n\\u00ed: Ji\\u0159\\u00ed Van\\u011bk at TEDxHradecKralove\", \"event\": \"TEDxHradecKralove\", \"likeCount\": \"2\", \"commentCount\": 0, \"topic\": \"Education\", \"ratingCount\": 2, \"duration\": 874, \"category\": \"Education\", \"favoriteCount\": 0, \"thumbnail\": \"http://i.ytimg.com/vi/zNS7kdSMVac/hqdefault.jpg\", \"viewCount\": 243}\n",
        "{\"uploaded\": \"2013-04-22T21:18:14.000Z\", \"rating\": 4.6363635, \"lang\": \"English\", \"tags\": \"-\", \"country\": \"United States\", \"id\": \"hktzJ7QNcMU\", \"title\": \"Empowering Women and Girls: Halima Hima at TEDxChange\", \"event\": \"TEDxChange\", \"likeCount\": \"10\", \"commentCount\": 0, \"topic\": \"Entertainment\", \"ratingCount\": 11, \"duration\": 1419, \"category\": \"Entertainment\", \"favoriteCount\": 0, \"thumbnail\": \"http://i.ytimg.com/vi/hktzJ7QNcMU/hqdefault.jpg\", \"viewCount\": 173}\n",
        "{\"uploaded\": \"2013-04-20T00:51:52.000Z\", \"rating\": 4.6363635, \"lang\": \"English\", \"tags\": \"-\", \"country\": \"United States\", \"id\": \"845UrCAFTsQ\", \"title\": \"Iconic toilets: Mathew Lippincott at TEDxConcordiaUPortland\", \"event\": \"TEDxConcordiaUPortland\", \"likeCount\": \"20\", \"commentCount\": 6, \"topic\": \"Education\", \"ratingCount\": 22, \"duration\": 648, \"category\": \"Education\", \"favoriteCount\": 0, \"thumbnail\": \"http://i.ytimg.com/vi/845UrCAFTsQ/hqdefault.jpg\", \"viewCount\": 1104}\n",
        "{\"uploaded\": \"2013-04-18T09:38:39.000Z\", \"rating\": 5.0, \"lang\": \"English\", \"tags\": \"-\", \"country\": \"India\", \"id\": \"MiwjplU6kAc\", \"title\": \"Three laws of user experience: Apala Lahiri Chavan at TEDxGolfLinksPark\", \"event\": \"TEDxGolflinkspark\", \"likeCount\": \"10\", \"commentCount\": 2, \"topic\": \"Education\", \"ratingCount\": 10, \"duration\": 1393, \"category\": \"Education\", \"favoriteCount\": 0, \"thumbnail\": \"http://i.ytimg.com/vi/MiwjplU6kAc/hqdefault.jpg\", \"viewCount\": 1069}\n",
        "{\"uploaded\": \"2013-04-18T02:18:44.000Z\", \"rating\": 4.2941175, \"lang\": \"English\", \"tags\": \"-\", \"country\": \"United States\", \"id\": \"5-YIxJEyBBs\", \"title\": \"Crowd sourcing the feminine intelligence of the planet: Jensine Larsen at TEDxConcordiaUPortland\", \"event\": \"TEDxConcordiaUPortland\", \"likeCount\": \"14\", \"commentCount\": 6, \"topic\": \"Education\", \"ratingCount\": 17, \"duration\": 1149, \"category\": \"Education\", \"favoriteCount\": 0, \"thumbnail\": \"http://i.ytimg.com/vi/5-YIxJEyBBs/hqdefault.jpg\", \"viewCount\": 432}\n"
       ]
      }
     ],
     "prompt_number": 29
    },
    {
     "cell_type": "markdown",
     "metadata": {},
     "source": [
      "<span id=\"stat\"></span>\n",
      "<a href=\"#outline\">Go to Top</a>"
     ]
    },
    {
     "cell_type": "heading",
     "level": 1,
     "metadata": {},
     "source": [
      "Basic Statistics"
     ]
    },
    {
     "cell_type": "markdown",
     "metadata": {},
     "source": [
      "Now that we've merged all the information we got, we can try to discover some basic statistics of these videos."
     ]
    },
    {
     "cell_type": "heading",
     "level": 2,
     "metadata": {},
     "source": [
      "Load JSON Data and Convert Them into DataFrame"
     ]
    },
    {
     "cell_type": "code",
     "collapsed": false,
     "input": [
      "import pandas as pd\n",
      "from pandas import Series, DataFrame\n",
      "import json\n",
      "\n",
      "TEDX_JSON_FILE = \"final_tedx.json\"\n",
      "tedx_video_list = []\n",
      "with open(TEDX_JSON_FILE, \"r\") as tedx_json_file:\n",
      "    for line in tedx_json_file:\n",
      "        tedx_video_list.append(json.loads(line))\n",
      "    tedx_df = DataFrame(tedx_video_list)\n",
      "tedx_df.set_index('id', inplace=True, drop=True)\n",
      "tedx_df"
     ],
     "language": "python",
     "metadata": {},
     "outputs": [
      {
       "output_type": "pyout",
       "prompt_number": 93,
       "text": [
        "<class 'pandas.core.frame.DataFrame'>\n",
        "Index: 29982 entries, ew0ovccWuQg to QZkUPZr1Zbc\n",
        "Data columns:\n",
        "category         27081  non-null values\n",
        "commentCount     27081  non-null values\n",
        "country          19813  non-null values\n",
        "duration         27081  non-null values\n",
        "event            23177  non-null values\n",
        "favoriteCount    27081  non-null values\n",
        "lang             24061  non-null values\n",
        "likeCount        27081  non-null values\n",
        "rating           27081  non-null values\n",
        "ratingCount      27081  non-null values\n",
        "tags             27081  non-null values\n",
        "thumbnail        27081  non-null values\n",
        "title            27081  non-null values\n",
        "topic            13332  non-null values\n",
        "uploaded         27081  non-null values\n",
        "viewCount        27081  non-null values\n",
        "dtypes: float64(1), object(15)"
       ]
      }
     ],
     "prompt_number": 93
    },
    {
     "cell_type": "heading",
     "level": 2,
     "metadata": {},
     "source": [
      "Statistics by Language"
     ]
    },
    {
     "cell_type": "heading",
     "level": 3,
     "metadata": {},
     "source": [
      "Number of Videos by Language"
     ]
    },
    {
     "cell_type": "markdown",
     "metadata": {},
     "source": [
      "Conclusion?"
     ]
    },
    {
     "cell_type": "code",
     "collapsed": false,
     "input": [
      "tedx_df['lang'].value_counts()[:10]"
     ],
     "language": "python",
     "metadata": {},
     "outputs": [
      {
       "output_type": "pyout",
       "prompt_number": 94,
       "text": [
        "English       17479\n",
        "Spanish        1388\n",
        "Portuguese     1002\n",
        "Korean          654\n",
        "French          559\n",
        "Arabic          471\n",
        "Russian         397\n",
        "Japanese        289\n",
        "Italian         253\n",
        "Polish          158"
       ]
      }
     ],
     "prompt_number": 94
    },
    {
     "cell_type": "code",
     "collapsed": false,
     "input": [
      "tedx_df[tedx_df.lang!='English']['lang'].value_counts().plot(kind=\"bar\")"
     ],
     "language": "python",
     "metadata": {},
     "outputs": [
      {
       "output_type": "pyout",
       "prompt_number": 95,
       "text": [
        "<matplotlib.axes.AxesSubplot at 0x18f04610>"
       ]
      },
      {
       "output_type": "display_data",
       "png": "[encoded data removed]"
      }
     ],
     "prompt_number": 95
    },
    {
     "cell_type": "heading",
     "level": 3,
     "metadata": {},
     "source": [
      "Number of View Counts by Language"
     ]
    },
    {
     "cell_type": "markdown",
     "metadata": {},
     "source": [
      "Conclusion?"
     ]
    },
    {
     "cell_type": "code",
     "collapsed": false,
     "input": [
      "tedx_df['viewCount'] = tedx_df['viewCount'].fillna(0)\n",
      "tedx_df[tedx_df.viewCount!='-'][['viewCount', 'lang']].groupby('lang').sum().sort('viewCount', ascending=0)[:10]"
     ],
     "language": "python",
     "metadata": {},
     "outputs": [
      {
       "html": [
        "<div style=\"max-height:1000px;max-width:1500px;overflow:auto;\">\n",
        "<table border=\"1\" class=\"dataframe\">\n",
        "  <thead>\n",
        "    <tr style=\"text-align: right;\">\n",
        "      <th></th>\n",
        "      <th>viewCount</th>\n",
        "    </tr>\n",
        "    <tr>\n",
        "      <th>lang</th>\n",
        "      <th></th>\n",
        "    </tr>\n",
        "  </thead>\n",
        "  <tbody>\n",
        "    <tr>\n",
        "      <th>English</th>\n",
        "      <td> 58477968</td>\n",
        "    </tr>\n",
        "    <tr>\n",
        "      <th>Arabic</th>\n",
        "      <td>  4213183</td>\n",
        "    </tr>\n",
        "    <tr>\n",
        "      <th>Spanish</th>\n",
        "      <td>  4173229</td>\n",
        "    </tr>\n",
        "    <tr>\n",
        "      <th>French</th>\n",
        "      <td>  3571510</td>\n",
        "    </tr>\n",
        "    <tr>\n",
        "      <th>Portuguese</th>\n",
        "      <td>  1516388</td>\n",
        "    </tr>\n",
        "    <tr>\n",
        "      <th>Japanese</th>\n",
        "      <td>   909865</td>\n",
        "    </tr>\n",
        "    <tr>\n",
        "      <th>Korean</th>\n",
        "      <td>   892479</td>\n",
        "    </tr>\n",
        "    <tr>\n",
        "      <th>Polish</th>\n",
        "      <td>   827042</td>\n",
        "    </tr>\n",
        "    <tr>\n",
        "      <th>Greek</th>\n",
        "      <td>   490969</td>\n",
        "    </tr>\n",
        "    <tr>\n",
        "      <th>Indonesian</th>\n",
        "      <td>   478289</td>\n",
        "    </tr>\n",
        "  </tbody>\n",
        "</table>\n",
        "</div>"
       ],
       "output_type": "pyout",
       "prompt_number": 96,
       "text": [
        "           viewCount\n",
        "lang                \n",
        "English     58477968\n",
        "Arabic       4213183\n",
        "Spanish      4173229\n",
        "French       3571510\n",
        "Portuguese   1516388\n",
        "Japanese      909865\n",
        "Korean        892479\n",
        "Polish        827042\n",
        "Greek         490969\n",
        "Indonesian    478289"
       ]
      }
     ],
     "prompt_number": 96
    },
    {
     "cell_type": "code",
     "collapsed": false,
     "input": [
      "tmp_tedx_df = tedx_df[tedx_df.lang!='English'].copy()\n",
      "tmp_tedx_df[tmp_tedx_df.viewCount!='-'][['viewCount', 'lang']].groupby('lang').sum().sort('viewCount', ascending=0).plot(kind=\"bar\")"
     ],
     "language": "python",
     "metadata": {},
     "outputs": [
      {
       "output_type": "pyout",
       "prompt_number": 98,
       "text": [
        "<matplotlib.axes.AxesSubplot at 0x1976f0f0>"
       ]
      },
      {
       "output_type": "display_data",
       "png": "[encoded data removed]"
      }
     ],
     "prompt_number": 98
    },
    {
     "cell_type": "heading",
     "level": 3,
     "metadata": {},
     "source": [
      "Number of Events by Language"
     ]
    },
    {
     "cell_type": "markdown",
     "metadata": {},
     "source": [
      "Conclusion?"
     ]
    },
    {
     "cell_type": "code",
     "collapsed": false,
     "input": [
      "tedx_df.groupby('lang').event.nunique().order(ascending=False)[:10]"
     ],
     "language": "python",
     "metadata": {},
     "outputs": [
      {
       "output_type": "pyout",
       "prompt_number": 99,
       "text": [
        "lang\n",
        "English       1035\n",
        "Spanish        101\n",
        "Portuguese      63\n",
        "French          54\n",
        "Korean          48\n",
        "Arabic          35\n",
        "Russian         26\n",
        "Italian         19\n",
        "Japanese        15\n",
        "Chinese         14"
       ]
      }
     ],
     "prompt_number": 99
    },
    {
     "cell_type": "code",
     "collapsed": false,
     "input": [
      "tmp_tedx_df = tedx_df[tedx_df.lang!='English'].copy()\n",
      "tmp_tedx_df.groupby('lang').event.nunique().order(ascending=False).plot(kind=\"bar\")"
     ],
     "language": "python",
     "metadata": {},
     "outputs": [
      {
       "output_type": "pyout",
       "prompt_number": 100,
       "text": [
        "<matplotlib.axes.AxesSubplot at 0x17887670>"
       ]
      },
      {
       "output_type": "display_data",
       "png": "[encoded data removed]"
      }
     ],
     "prompt_number": 100
    },
    {
     "cell_type": "markdown",
     "metadata": {},
     "source": [
      "<span id=\"stat2\"></span>\n",
      "<a href=\"#outline\">Go to Top</a>"
     ]
    },
    {
     "cell_type": "heading",
     "level": 2,
     "metadata": {},
     "source": [
      "Statistics by Country"
     ]
    },
    {
     "cell_type": "heading",
     "level": 3,
     "metadata": {},
     "source": [
      "Number of Videos by Country"
     ]
    },
    {
     "cell_type": "code",
     "collapsed": false,
     "input": [
      "tedx_df['country'].value_counts()[:10]"
     ],
     "language": "python",
     "metadata": {},
     "outputs": [
      {
       "output_type": "pyout",
       "prompt_number": 51,
       "text": [
        "United States     5634\n",
        "Canada            1249\n",
        "India              815\n",
        "Brazil             726\n",
        "Netherlands        710\n",
        "South Korea        685\n",
        "Spain              674\n",
        "Australia          605\n",
        "United Kingdom     591\n",
        "Japan              474"
       ]
      }
     ],
     "prompt_number": 51
    },
    {
     "cell_type": "code",
     "collapsed": false,
     "input": [
      "Map?"
     ],
     "language": "python",
     "metadata": {},
     "outputs": [],
     "prompt_number": 103
    },
    {
     "cell_type": "heading",
     "level": 3,
     "metadata": {},
     "source": [
      "Number of View Counts by Country"
     ]
    },
    {
     "cell_type": "code",
     "collapsed": false,
     "input": [
      "tedx_df[tedx_df.viewCount!='-'][['viewCount', 'country']].groupby('country').sum().sort('viewCount', ascending=0)[:10]"
     ],
     "language": "python",
     "metadata": {},
     "outputs": [
      {
       "html": [
        "<div style=\"max-height:1000px;max-width:1500px;overflow:auto;\">\n",
        "<table border=\"1\" class=\"dataframe\">\n",
        "  <thead>\n",
        "    <tr style=\"text-align: right;\">\n",
        "      <th></th>\n",
        "      <th>viewCount</th>\n",
        "    </tr>\n",
        "    <tr>\n",
        "      <th>country</th>\n",
        "      <th></th>\n",
        "    </tr>\n",
        "  </thead>\n",
        "  <tbody>\n",
        "    <tr>\n",
        "      <th>United States</th>\n",
        "      <td> 18189465</td>\n",
        "    </tr>\n",
        "    <tr>\n",
        "      <th>Canada</th>\n",
        "      <td>  4572056</td>\n",
        "    </tr>\n",
        "    <tr>\n",
        "      <th>France</th>\n",
        "      <td>  3065666</td>\n",
        "    </tr>\n",
        "    <tr>\n",
        "      <th>United Kingdom</th>\n",
        "      <td>  2226657</td>\n",
        "    </tr>\n",
        "    <tr>\n",
        "      <th>Argentina</th>\n",
        "      <td>  2171808</td>\n",
        "    </tr>\n",
        "    <tr>\n",
        "      <th>Netherlands</th>\n",
        "      <td>  1947574</td>\n",
        "    </tr>\n",
        "    <tr>\n",
        "      <th>Japan</th>\n",
        "      <td>  1734785</td>\n",
        "    </tr>\n",
        "    <tr>\n",
        "      <th>India</th>\n",
        "      <td>  1510407</td>\n",
        "    </tr>\n",
        "    <tr>\n",
        "      <th>Yemen</th>\n",
        "      <td>  1308153</td>\n",
        "    </tr>\n",
        "    <tr>\n",
        "      <th>Spain</th>\n",
        "      <td>  1196308</td>\n",
        "    </tr>\n",
        "  </tbody>\n",
        "</table>\n",
        "</div>"
       ],
       "output_type": "pyout",
       "prompt_number": 104,
       "text": [
        "               viewCount\n",
        "country                 \n",
        "United States   18189465\n",
        "Canada           4572056\n",
        "France           3065666\n",
        "United Kingdom   2226657\n",
        "Argentina        2171808\n",
        "Netherlands      1947574\n",
        "Japan            1734785\n",
        "India            1510407\n",
        "Yemen            1308153\n",
        "Spain            1196308"
       ]
      }
     ],
     "prompt_number": 104
    },
    {
     "cell_type": "code",
     "collapsed": false,
     "input": [
      "Map?"
     ],
     "language": "python",
     "metadata": {},
     "outputs": []
    },
    {
     "cell_type": "heading",
     "level": 3,
     "metadata": {},
     "source": [
      "Number of Events by Country"
     ]
    },
    {
     "cell_type": "code",
     "collapsed": false,
     "input": [
      "tedx_df.groupby('country').event.nunique().order(ascending=False)[:10]"
     ],
     "language": "python",
     "metadata": {},
     "outputs": [
      {
       "output_type": "pyout",
       "prompt_number": 48,
       "text": [
        "country\n",
        "United States     359\n",
        "India              89\n",
        "Canada             80\n",
        "United Kingdom     51\n",
        "South Korea        47\n",
        "Brazil             44\n",
        "Spain              41\n",
        "Netherlands        32\n",
        "France             30\n",
        "Australia          28"
       ]
      }
     ],
     "prompt_number": 48
    },
    {
     "cell_type": "code",
     "collapsed": false,
     "input": [
      "Map?"
     ],
     "language": "python",
     "metadata": {},
     "outputs": []
    },
    {
     "cell_type": "heading",
     "level": 2,
     "metadata": {},
     "source": [
      "Statistics by Event"
     ]
    },
    {
     "cell_type": "heading",
     "level": 3,
     "metadata": {},
     "source": [
      "Number of Videos by Event"
     ]
    },
    {
     "cell_type": "code",
     "collapsed": false,
     "input": [
      "tedx_df['event'].value_counts()[:10]"
     ],
     "language": "python",
     "metadata": {},
     "outputs": [
      {
       "output_type": "pyout",
       "prompt_number": 49,
       "text": [
        "TEDxTokyo          197\n",
        "TEDxSF             131\n",
        "TEDxAmsterdam      126\n",
        "TEDxWomen          125\n",
        "TEDxSydney         122\n",
        "TEDxMidAtlantic    118\n",
        "TEDxDetroit         97\n",
        "TEDxBoston          94\n",
        "TEDxRainier         89\n",
        "TEDxBrussels        83"
       ]
      }
     ],
     "prompt_number": 49
    },
    {
     "cell_type": "code",
     "collapsed": false,
     "input": [
      "tedx_df['event'].value_counts()[:30].plot(kind=\"bar\")"
     ],
     "language": "python",
     "metadata": {},
     "outputs": [
      {
       "output_type": "pyout",
       "prompt_number": 62,
       "text": [
        "<matplotlib.axes.AxesSubplot at 0x16463b70>"
       ]
      },
      {
       "output_type": "display_data",
       "png": "[encoded data removed]"
      }
     ],
     "prompt_number": 62
    },
    {
     "cell_type": "heading",
     "level": 3,
     "metadata": {},
     "source": [
      "Number of View Counts by Event"
     ]
    },
    {
     "cell_type": "code",
     "collapsed": false,
     "input": [
      "tedx_df[tedx_df.viewCount!='-'][['viewCount', 'event']].groupby('event').sum().sort('viewCount', ascending=0)[:10]"
     ],
     "language": "python",
     "metadata": {},
     "outputs": [
      {
       "html": [
        "<div style=\"max-height:1000px;max-width:1500px;overflow:auto;\">\n",
        "<table border=\"1\" class=\"dataframe\">\n",
        "  <thead>\n",
        "    <tr style=\"text-align: right;\">\n",
        "      <th></th>\n",
        "      <th>viewCount</th>\n",
        "    </tr>\n",
        "    <tr>\n",
        "      <th>event</th>\n",
        "      <th></th>\n",
        "    </tr>\n",
        "  </thead>\n",
        "  <tbody>\n",
        "    <tr>\n",
        "      <th>TEDxSF</th>\n",
        "      <td> 3152719</td>\n",
        "    </tr>\n",
        "    <tr>\n",
        "      <th>TEDxManhattanBeach</th>\n",
        "      <td> 2348682</td>\n",
        "    </tr>\n",
        "    <tr>\n",
        "      <th>TEDxTokyo</th>\n",
        "      <td> 1576970</td>\n",
        "    </tr>\n",
        "    <tr>\n",
        "      <th>TEDxTeen</th>\n",
        "      <td> 1388622</td>\n",
        "    </tr>\n",
        "    <tr>\n",
        "      <th>TEDxParis</th>\n",
        "      <td> 1340783</td>\n",
        "    </tr>\n",
        "    <tr>\n",
        "      <th>TEDxSanaa</th>\n",
        "      <td> 1308153</td>\n",
        "    </tr>\n",
        "    <tr>\n",
        "      <th>TEDxIowaCity</th>\n",
        "      <td> 1289354</td>\n",
        "    </tr>\n",
        "    <tr>\n",
        "      <th>TEDxHouston</th>\n",
        "      <td> 1180213</td>\n",
        "    </tr>\n",
        "    <tr>\n",
        "      <th>TEDxGlasgow</th>\n",
        "      <td> 1044059</td>\n",
        "    </tr>\n",
        "    <tr>\n",
        "      <th>TEDxMidAtlantic</th>\n",
        "      <td> 1036829</td>\n",
        "    </tr>\n",
        "  </tbody>\n",
        "</table>\n",
        "</div>"
       ],
       "output_type": "pyout",
       "prompt_number": 50,
       "text": [
        "                   viewCount\n",
        "event                       \n",
        "TEDxSF               3152719\n",
        "TEDxManhattanBeach   2348682\n",
        "TEDxTokyo            1576970\n",
        "TEDxTeen             1388622\n",
        "TEDxParis            1340783\n",
        "TEDxSanaa            1308153\n",
        "TEDxIowaCity         1289354\n",
        "TEDxHouston          1180213\n",
        "TEDxGlasgow          1044059\n",
        "TEDxMidAtlantic      1036829"
       ]
      }
     ],
     "prompt_number": 50
    },
    {
     "cell_type": "code",
     "collapsed": false,
     "input": [
      "tedx_df[tedx_df.viewCount!='-'][['viewCount', 'event']].groupby('event').sum().sort('viewCount', ascending=0)[:30].plot(kind=\"bar\")"
     ],
     "language": "python",
     "metadata": {},
     "outputs": [
      {
       "output_type": "pyout",
       "prompt_number": 63,
       "text": [
        "<matplotlib.axes.AxesSubplot at 0x164a57b0>"
       ]
      },
      {
       "output_type": "display_data",
       "png": "[encoded data removed]"
      }
     ],
     "prompt_number": 63
    },
    {
     "cell_type": "markdown",
     "metadata": {},
     "source": [
      "<span id=\"viz1\"></span>\n",
      "<a href=\"#outline\">Go to Top</a>"
     ]
    },
    {
     "cell_type": "heading",
     "level": 1,
     "metadata": {},
     "source": [
      "Trends of TEDx over 5 years (by language)"
     ]
    },
    {
     "cell_type": "code",
     "collapsed": false,
     "input": [
      "# more information for visualization, including how to prepare data for D3.js\n",
      "# http://nbviewer.ipython.org/5501063"
     ],
     "language": "python",
     "metadata": {},
     "outputs": []
    },
    {
     "cell_type": "code",
     "collapsed": false,
     "input": [
      "from IPython.display import HTML\n",
      "HTML('<iframe src=\"http://96chany.com/projects/tedx_popularity\" width=\"1000\" height=\"800\"></iframe>')\n",
      "\n",
      "# you can navigate years by sliding 'year' digits"
     ],
     "language": "python",
     "metadata": {},
     "outputs": [
      {
       "html": [
        "<iframe src=\"http://96chany.com/projects/tedx_popularity\" width=\"1000\" height=\"800\"></iframe>"
       ],
       "output_type": "pyout",
       "prompt_number": 3,
       "text": [
        "<IPython.core.display.HTML at 0x637f970>"
       ]
      }
     ],
     "prompt_number": 3
    },
    {
     "cell_type": "markdown",
     "metadata": {},
     "source": [
      "<span id=\"viz2\"></span>\n",
      "<a href=\"#outline\">Go to Top</a>"
     ]
    },
    {
     "cell_type": "heading",
     "level": 1,
     "metadata": {},
     "source": [
      "Compare With TED"
     ]
    },
    {
     "cell_type": "code",
     "collapsed": false,
     "input": [
      "from IPython.display import HTML\n",
      "HTML('<iframe src=\"http://96chany.com/projects/tedx_comparison\" width=\"1100\" height=\"750\"></iframe>')\n"
     ],
     "language": "python",
     "metadata": {},
     "outputs": [
      {
       "html": [
        "<iframe src=\"http://96chany.com/projects/tedx_comparison\" width=\"1100\" height=\"750\"></iframe>"
       ],
       "output_type": "pyout",
       "prompt_number": 6,
       "text": [
        "<IPython.core.display.HTML at 0x637fdf0>"
       ]
      }
     ],
     "prompt_number": 6
    },
    {
     "cell_type": "heading",
     "level": 1,
     "metadata": {},
     "source": [
      "Issues We Encountered"
     ]
    },
    {
     "cell_type": "markdown",
     "metadata": {},
     "source": [
      "Data inconsistancy :\n",
      "The video [TEDxCausewayBay - Terence Wong - 04/15/10](http://tedxtalks.ted.com/video/TEDxCausewayBay-Terence-Wong-04) appears in language [Chinese](http://tedxtalks.ted.com/browse/talks-by-language/chinese?page=6) and [Korean](http://tedxtalks.ted.com/browse/talks-by-language/korean?page=32), and in event [TEDxCAU](http://tedxtalks.ted.com/browse/talks-by-event/tedxcau?page=2) and [TEDxCausewayBay](http://tedxtalks.ted.com/browse/talks-by-event/TEDxCausewayBay)"
     ]
    },
    {
     "cell_type": "markdown",
     "metadata": {},
     "source": [
      "<span id=\"next\"></span>\n",
      "<a href=\"#outline\">Go to Top</a>"
     ]
    },
    {
     "cell_type": "heading",
     "level": 1,
     "metadata": {},
     "source": [
      "What's Next?"
     ]
    },
    {
     "cell_type": "markdown",
     "metadata": {},
     "source": [
      "* Video Recommendation for Translators Based on Translators' Translating History\n",
      "* Comparing the Translated Results of Human Translators and Machine Translators (Google/Bing Translate) to Improve the Translation Quality"
     ]
    }
   ],
   "metadata": {}
  }
 ]
}